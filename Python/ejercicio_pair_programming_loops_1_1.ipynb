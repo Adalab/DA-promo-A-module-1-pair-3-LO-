{
 "cells": [
  {
   "cell_type": "code",
   "execution_count": 13,
   "metadata": {},
   "outputs": [
    {
     "name": "stdout",
     "output_type": "stream",
     "text": [
      "     ¡Comenzamos el juego!     \n",
      "Tienes 3 intentos para adivinar el número entre el 2 y el 9\n",
      "Lo siento, el número es más bajo que este\n",
      "Lo siento, el número es más alto que este\n",
      "Lo siento, el número es más alto que este\n",
      "Has fallado, el número era 8\n"
     ]
    }
   ],
   "source": [
    "import random\n",
    "\n",
    "#Cadenas de texto\n",
    "inicio = '     ¡Comenzamos el juego!     '\n",
    "instruccion = 'Tienes 3 intentos para adivinar el número entre el 2 y el 9'\n",
    "\n",
    "\n",
    "#Variables\n",
    "lim_inferior = 2\n",
    "lim_superior = 9\n",
    "numero_secreto = random.randint(lim_inferior,lim_superior)\n",
    "numero_intentos = 0\n",
    "\n",
    "#Inputs\n",
    "\n",
    "\n",
    "#Juego\n",
    "print(inicio)\n",
    "print(instruccion)\n",
    "while numero_intentos<3:\n",
    "    \n",
    "    input_intento1 = int(input('Introduce un número del 2 al 9'))\n",
    "\n",
    "    numero_intentos = numero_intentos +1\n",
    "\n",
    "    if input_intento1<numero_secreto:\n",
    "        print('Lo siento, el número es más alto que este')\n",
    "    elif input_intento1>numero_secreto:\n",
    "        print('Lo siento, el número es más bajo que este')\n",
    "    elif input_intento1==numero_secreto:\n",
    "        break\n",
    "\n",
    "if input_intento1==numero_secreto:\n",
    "    print('     ¡Enhorabuena, has acertado el número!     ')\n",
    "else: print('Has fallado, el número era', numero_secreto)\n",
    "\n",
    "\n",
    "    \n",
    "    \n",
    "\n"
   ]
  },
  {
   "cell_type": "code",
   "execution_count": 14,
   "metadata": {},
   "outputs": [
    {
     "name": "stdout",
     "output_type": "stream",
     "text": [
      "     ¡Comenzamos el juego!     \n",
      "Tienes 3 intentos para adivinar el número entre el 2 y el 9\n",
      "Lo siento, el número es más alto que este\n",
      "Lo siento, el número es más alto que este\n",
      "Lo siento, el número es más alto que este\n",
      "Has fallado, el número era 9\n"
     ]
    }
   ],
   "source": [
    "import random\n",
    "\n",
    "#Cadenas de texto\n",
    "inicio = '     ¡Comenzamos el juego!     '\n",
    "instruccion = 'Tienes 3 intentos para adivinar el número entre el 2 y el 9'\n",
    "\n",
    "\n",
    "#Variables\n",
    "lim_inferior = 2\n",
    "lim_superior = 9\n",
    "numero_secreto = random.randint(lim_inferior,lim_superior)\n",
    "numero_intentos = 0\n",
    "\n",
    "#Inputs\n",
    "\n",
    "\n",
    "#Juego\n",
    "print(inicio)\n",
    "print(instruccion)\n",
    "while numero_intentos<3:\n",
    "    \n",
    "    input_intento1 = int(input('Introduce un número del 2 al 9'))\n",
    "\n",
    "    numero_intentos = numero_intentos +1\n",
    "\n",
    "    if input_intento1<numero_secreto:\n",
    "        print('Lo siento, el número es más alto que este')\n",
    "    if input_intento1>numero_secreto:\n",
    "        print('Lo siento, el número es más bajo que este')\n",
    "    if input_intento1==numero_secreto:\n",
    "        break\n",
    "\n",
    "if input_intento1==numero_secreto:\n",
    "    print('     ¡Enhorabuena, has acertado el número!     ')\n",
    "else: print('Has fallado, el número era', numero_secreto)"
   ]
  }
 ],
 "metadata": {
  "interpreter": {
   "hash": "916dbcbb3f70747c44a77c7bcd40155683ae19c65e1c03b4aa3499c5328201f1"
  },
  "kernelspec": {
   "display_name": "Python 3.8.10 64-bit",
   "language": "python",
   "name": "python3"
  },
  "language_info": {
   "codemirror_mode": {
    "name": "ipython",
    "version": 3
   },
   "file_extension": ".py",
   "mimetype": "text/x-python",
   "name": "python",
   "nbconvert_exporter": "python",
   "pygments_lexer": "ipython3",
   "version": "3.8.10"
  },
  "orig_nbformat": 4
 },
 "nbformat": 4,
 "nbformat_minor": 2
}
