{
 "cells": [
  {
   "cell_type": "code",
   "execution_count": null,
   "metadata": {},
   "outputs": [],
   "source": [
    "\n",
    "\n"
   ]
  },
  {
   "cell_type": "code",
   "execution_count": 1,
   "metadata": {},
   "outputs": [
    {
     "name": "stdout",
     "output_type": "stream",
     "text": [
      "¡Comenzamos el juego!\n",
      "Tienes 3  intentos para adivinar el número entre 1 y 10\n",
      "Intento 1: 6\n",
      "Terminamos el juego, el número era  7 ¿Lo adivinaste?\n"
     ]
    }
   ],
   "source": [
    "import math\n",
    "import random\n",
    "\n",
    "# Variables numéricas\n",
    "lim_inferior = (1)\n",
    "lim_superior = (10)\n",
    "\n",
    "# Cadenas fijas de texto\n",
    "Bienvenida =(\"¡Comenzamos el juego!\")\n",
    "Fin = (\"Terminamos el juego, el número era \")\n",
    "Pregunta = (\"¿Lo adivinaste?\")\n",
    "\n",
    "# User input\n",
    "intento = input('Introduce un numero del 0 al 10')\n",
    "n1 = int(input())\n",
    "n2 = (1)\n",
    "variable = (n1 + n2)\n",
    "\n",
    "# Cantidades calculadas\n",
    "intentos_permitidos = round(math.log(lim_superior - lim_inferior + 1,2))\n",
    "numero_secreto = random.randint(lim_inferior,lim_superior)\n",
    "\n",
    "# Inicio del juego\n",
    "print (Bienvenida)\n",
    "\n",
    "# Adivinar 1 intento\n",
    "print (\"Tienes\", intentos_permitidos,\" intentos para adivinar el número entre\", lim_inferior, \"y\" ,lim_superior)\n",
    "print(\"Intento 1:\", intento)\n",
    "\n",
    "\n",
    "# Fin del juego\"\n",
    "print( Fin, variable, Pregunta)\n"
   ]
  }
 ],
 "metadata": {
  "interpreter": {
   "hash": "40d3a090f54c6569ab1632332b64b2c03c39dcf918b08424e98f38b5ae0af88f"
  },
  "kernelspec": {
   "display_name": "Python 3.9.7 ('base')",
   "language": "python",
   "name": "python3"
  },
  "language_info": {
   "codemirror_mode": {
    "name": "ipython",
    "version": 3
   },
   "file_extension": ".py",
   "mimetype": "text/x-python",
   "name": "python",
   "nbconvert_exporter": "python",
   "pygments_lexer": "ipython3",
   "version": "3.9.7"
  },
  "orig_nbformat": 4
 },
 "nbformat": 4,
 "nbformat_minor": 2
}
