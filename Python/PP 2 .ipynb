{
 "cells": [
  {
   "cell_type": "code",
   "execution_count": 7,
   "metadata": {},
   "outputs": [
    {
     "name": "stdout",
     "output_type": "stream",
     "text": [
      "¡Comencemos el juego!\n",
      "Tiene 6 elementos entre  4 y 37\n",
      "La lista del usuario es esta:  [4, 5, 6, 7, 8, 9]\n",
      "¿Has adivinado el numero secreto?\n",
      "True\n",
      "Terminamos el juego. El número era el  4\n"
     ]
    }
   ],
   "source": [
    "import random\n",
    "\n",
    "# Variables numéricas\n",
    "lim_inferior = (4)\n",
    "lim_superior = (37)\n",
    "\n",
    "# Cadenas fijas de texto\n",
    "str_input = \"Lista de 6 números, separado por espacios: \"\n",
    "Bienvenida = ('¡Comencemos el juego!')\n",
    "Instrucciones = ('Tiene 6 elementos entre ')\n",
    "Fin = ('Terminamos el juego. El número era el ')\n",
    "lista_usuario = ('La lista del usuario es esta: ')\n",
    "pregunta = ('¿Has adivinado el numero secreto?')\n",
    "\n",
    "# User input\n",
    "num_list = list(int(num) for num in input(str_input).strip().split())\n",
    "\n",
    "# Cantidades calculadas\n",
    "numero_secreto = random.randint(lim_inferior,lim_superior)\n",
    "\n",
    "# Inicio del juego\n",
    "print(Bienvenida)\n",
    "print(Instrucciones, lim_inferior, 'y', lim_superior)\n",
    "\n",
    "# Propiedades de la lista\n",
    "print(lista_usuario, num_list)\n",
    "\n",
    "# Han adivinado el número secreto?\n",
    "print(pregunta)\n",
    "print(numero_secreto in num_list)\n",
    "\n",
    "# Fin del juego\n",
    "print(Fin,numero_secreto)"
   ]
  }
 ],
 "metadata": {
  "interpreter": {
   "hash": "40d3a090f54c6569ab1632332b64b2c03c39dcf918b08424e98f38b5ae0af88f"
  },
  "kernelspec": {
   "display_name": "Python 3.9.7 ('base')",
   "language": "python",
   "name": "python3"
  },
  "language_info": {
   "codemirror_mode": {
    "name": "ipython",
    "version": 3
   },
   "file_extension": ".py",
   "mimetype": "text/x-python",
   "name": "python",
   "nbconvert_exporter": "python",
   "pygments_lexer": "ipython3",
   "version": "3.9.7"
  },
  "orig_nbformat": 4
 },
 "nbformat": 4,
 "nbformat_minor": 2
}
