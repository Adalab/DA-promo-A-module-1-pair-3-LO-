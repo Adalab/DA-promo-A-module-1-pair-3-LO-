{
 "cells": [
  {
   "cell_type": "code",
   "execution_count": 11,
   "metadata": {},
   "outputs": [
    {
     "name": "stdout",
     "output_type": "stream",
     "text": [
      "¡Comenzamos el juego!\n",
      "(('-', '|', '-', '|', '-'), ('-', '|', '-', '|', '-'), ('-', '|', '-', '|', '-'))\n"
     ]
    },
    {
     "ename": "ValueError",
     "evalue": "invalid literal for int() with base 10: \"['11']\"",
     "output_type": "error",
     "traceback": [
      "\u001b[0;31m---------------------------------------------------------------------------\u001b[0m",
      "\u001b[0;31mValueError\u001b[0m                                Traceback (most recent call last)",
      "\u001b[1;32m/home/adalaber/Escritorio/MODULO 1/PYTHON/TUPLAS Y SETS/ejercicio_pair_programming_tuplas.ipynb Cell 1'\u001b[0m in \u001b[0;36m<cell line: 21>\u001b[0;34m()\u001b[0m\n\u001b[1;32m     <a href='vscode-notebook-cell:/home/adalaber/Escritorio/MODULO%201/PYTHON/TUPLAS%20Y%20SETS/ejercicio_pair_programming_tuplas.ipynb#ch0000000?line=17'>18</a>\u001b[0m input_simbolo1 \u001b[39m=\u001b[39m \u001b[39mstr\u001b[39m(\u001b[39minput\u001b[39m(\u001b[39m'\u001b[39m\u001b[39mElige X o O\u001b[39m\u001b[39m'\u001b[39m))\n\u001b[1;32m     <a href='vscode-notebook-cell:/home/adalaber/Escritorio/MODULO%201/PYTHON/TUPLAS%20Y%20SETS/ejercicio_pair_programming_tuplas.ipynb#ch0000000?line=18'>19</a>\u001b[0m coor \u001b[39m=\u001b[39m \u001b[39mstr\u001b[39m(\u001b[39minput\u001b[39m(\u001b[39m'\u001b[39m\u001b[39m¿En qué columna y fila de la 1 a la 3?\u001b[39m\u001b[39m'\u001b[39m)\u001b[39m.\u001b[39msplit(\u001b[39m'\u001b[39m\u001b[39m,\u001b[39m\u001b[39m'\u001b[39m))\n\u001b[0;32m---> <a href='vscode-notebook-cell:/home/adalaber/Escritorio/MODULO%201/PYTHON/TUPLAS%20Y%20SETS/ejercicio_pair_programming_tuplas.ipynb#ch0000000?line=20'>21</a>\u001b[0m coor \u001b[39m=\u001b[39m \u001b[39mtuple\u001b[39;49m(\u001b[39mint\u001b[39;49m(num)\u001b[39m-\u001b[39;49m\u001b[39m1\u001b[39;49m \u001b[39mfor\u001b[39;49;00m num \u001b[39min\u001b[39;49;00m coor\u001b[39m.\u001b[39;49msplit(\u001b[39m\"\u001b[39;49m\u001b[39m,\u001b[39;49m\u001b[39m\"\u001b[39;49m))\n\u001b[1;32m     <a href='vscode-notebook-cell:/home/adalaber/Escritorio/MODULO%201/PYTHON/TUPLAS%20Y%20SETS/ejercicio_pair_programming_tuplas.ipynb#ch0000000?line=22'>23</a>\u001b[0m \u001b[39m# Actualizar tablero\u001b[39;00m\n\u001b[1;32m     <a href='vscode-notebook-cell:/home/adalaber/Escritorio/MODULO%201/PYTHON/TUPLAS%20Y%20SETS/ejercicio_pair_programming_tuplas.ipynb#ch0000000?line=23'>24</a>\u001b[0m \u001b[39m# Imprimir tablero\u001b[39;00m\n\u001b[1;32m     <a href='vscode-notebook-cell:/home/adalaber/Escritorio/MODULO%201/PYTHON/TUPLAS%20Y%20SETS/ejercicio_pair_programming_tuplas.ipynb#ch0000000?line=24'>25</a>\u001b[0m \n\u001b[1;32m     <a href='vscode-notebook-cell:/home/adalaber/Escritorio/MODULO%201/PYTHON/TUPLAS%20Y%20SETS/ejercicio_pair_programming_tuplas.ipynb#ch0000000?line=25'>26</a>\u001b[0m \u001b[39m# Input del usuario\u001b[39;00m\n\u001b[1;32m     <a href='vscode-notebook-cell:/home/adalaber/Escritorio/MODULO%201/PYTHON/TUPLAS%20Y%20SETS/ejercicio_pair_programming_tuplas.ipynb#ch0000000?line=26'>27</a>\u001b[0m input_simbolo2 \u001b[39m=\u001b[39m \u001b[39mstr\u001b[39m(\u001b[39minput\u001b[39m(\u001b[39m'\u001b[39m\u001b[39mElige el otro símbolo\u001b[39m\u001b[39m'\u001b[39m))\n",
      "\u001b[1;32m/home/adalaber/Escritorio/MODULO 1/PYTHON/TUPLAS Y SETS/ejercicio_pair_programming_tuplas.ipynb Cell 1'\u001b[0m in \u001b[0;36m<genexpr>\u001b[0;34m(.0)\u001b[0m\n\u001b[1;32m     <a href='vscode-notebook-cell:/home/adalaber/Escritorio/MODULO%201/PYTHON/TUPLAS%20Y%20SETS/ejercicio_pair_programming_tuplas.ipynb#ch0000000?line=17'>18</a>\u001b[0m input_simbolo1 \u001b[39m=\u001b[39m \u001b[39mstr\u001b[39m(\u001b[39minput\u001b[39m(\u001b[39m'\u001b[39m\u001b[39mElige X o O\u001b[39m\u001b[39m'\u001b[39m))\n\u001b[1;32m     <a href='vscode-notebook-cell:/home/adalaber/Escritorio/MODULO%201/PYTHON/TUPLAS%20Y%20SETS/ejercicio_pair_programming_tuplas.ipynb#ch0000000?line=18'>19</a>\u001b[0m coor \u001b[39m=\u001b[39m \u001b[39mstr\u001b[39m(\u001b[39minput\u001b[39m(\u001b[39m'\u001b[39m\u001b[39m¿En qué columna y fila de la 1 a la 3?\u001b[39m\u001b[39m'\u001b[39m)\u001b[39m.\u001b[39msplit(\u001b[39m'\u001b[39m\u001b[39m,\u001b[39m\u001b[39m'\u001b[39m))\n\u001b[0;32m---> <a href='vscode-notebook-cell:/home/adalaber/Escritorio/MODULO%201/PYTHON/TUPLAS%20Y%20SETS/ejercicio_pair_programming_tuplas.ipynb#ch0000000?line=20'>21</a>\u001b[0m coor \u001b[39m=\u001b[39m \u001b[39mtuple\u001b[39m(\u001b[39mint\u001b[39;49m(num)\u001b[39m-\u001b[39m\u001b[39m1\u001b[39m \u001b[39mfor\u001b[39;00m num \u001b[39min\u001b[39;00m coor\u001b[39m.\u001b[39msplit(\u001b[39m\"\u001b[39m\u001b[39m,\u001b[39m\u001b[39m\"\u001b[39m))\n\u001b[1;32m     <a href='vscode-notebook-cell:/home/adalaber/Escritorio/MODULO%201/PYTHON/TUPLAS%20Y%20SETS/ejercicio_pair_programming_tuplas.ipynb#ch0000000?line=22'>23</a>\u001b[0m \u001b[39m# Actualizar tablero\u001b[39;00m\n\u001b[1;32m     <a href='vscode-notebook-cell:/home/adalaber/Escritorio/MODULO%201/PYTHON/TUPLAS%20Y%20SETS/ejercicio_pair_programming_tuplas.ipynb#ch0000000?line=23'>24</a>\u001b[0m \u001b[39m# Imprimir tablero\u001b[39;00m\n\u001b[1;32m     <a href='vscode-notebook-cell:/home/adalaber/Escritorio/MODULO%201/PYTHON/TUPLAS%20Y%20SETS/ejercicio_pair_programming_tuplas.ipynb#ch0000000?line=24'>25</a>\u001b[0m \n\u001b[1;32m     <a href='vscode-notebook-cell:/home/adalaber/Escritorio/MODULO%201/PYTHON/TUPLAS%20Y%20SETS/ejercicio_pair_programming_tuplas.ipynb#ch0000000?line=25'>26</a>\u001b[0m \u001b[39m# Input del usuario\u001b[39;00m\n\u001b[1;32m     <a href='vscode-notebook-cell:/home/adalaber/Escritorio/MODULO%201/PYTHON/TUPLAS%20Y%20SETS/ejercicio_pair_programming_tuplas.ipynb#ch0000000?line=26'>27</a>\u001b[0m input_simbolo2 \u001b[39m=\u001b[39m \u001b[39mstr\u001b[39m(\u001b[39minput\u001b[39m(\u001b[39m'\u001b[39m\u001b[39mElige el otro símbolo\u001b[39m\u001b[39m'\u001b[39m))\n",
      "\u001b[0;31mValueError\u001b[0m: invalid literal for int() with base 10: \"['11']\""
     ]
    }
   ],
   "source": [
    "# Variables predefinidas\n",
    "inicio = ('¡Comenzamos el juego!')\n",
    "\n",
    "# Definir el tablero con todo \"-\"\n",
    "m1 = ('-','|','-','|','-')\n",
    "m2 = ('-','|','-','|','-')\n",
    "m3 = ('-','|','-','|','-')\n",
    "tablero = (m1, m2, m3)\n",
    "\n",
    "#m1_dict = dict\n",
    "\n",
    "# Inicio del juego\n",
    "print(inicio)\n",
    "\n",
    "# Imprimir tablero\n",
    "print(tablero)\n",
    "# Input de la usuaria\n",
    "input_simbolo1 = str(input('Elige X o O'))\n",
    "coor = str(input('¿En qué columna y fila de la 1 a la 3?').split(','))\n",
    "\n",
    "coor = tuple(int(num)-1 for num in coor.split(\",\"))\n",
    "\n",
    "# Actualizar tablero\n",
    "# Imprimir tablero\n",
    "\n",
    "# Input del usuario\n",
    "input_simbolo2 = str(input('Elige el otro símbolo'))\n",
    "input_coordenada2 = int(input('¿En qué coordenada y fila del 1 al 3?'))\n",
    "\n",
    "coor = tuple(int(co)-1 for co in coor.split(\",\"))\n",
    "\n",
    "# Actualizar tablero\n",
    "\n",
    "# Imprimir tablero\n",
    "\n",
    "# Convertir los caracteres del board a una sola lista\n",
    "board_list = sum(board,[])\n",
    "\n",
    "# Sacar los elementos únicos que no sean \"-\"\n",
    "\n",
    "# Final del juego"
   ]
  }
 ],
 "metadata": {
  "interpreter": {
   "hash": "916dbcbb3f70747c44a77c7bcd40155683ae19c65e1c03b4aa3499c5328201f1"
  },
  "kernelspec": {
   "display_name": "Python 3.8.10 64-bit",
   "language": "python",
   "name": "python3"
  },
  "language_info": {
   "codemirror_mode": {
    "name": "ipython",
    "version": 3
   },
   "file_extension": ".py",
   "mimetype": "text/x-python",
   "name": "python",
   "nbconvert_exporter": "python",
   "pygments_lexer": "ipython3",
   "version": "3.8.10"
  },
  "orig_nbformat": 4
 },
 "nbformat": 4,
 "nbformat_minor": 2
}
