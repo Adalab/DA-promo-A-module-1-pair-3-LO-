{
 "cells": [
  {
   "cell_type": "code",
   "execution_count": 8,
   "metadata": {},
   "outputs": [
    {
     "name": "stdout",
     "output_type": "stream",
     "text": [
      "¡Comenzamos el juego!\n",
      "-|-|-\n",
      "-|-|-\n",
      "-|-|-\n",
      "x 1,3\n"
     ]
    },
    {
     "ename": "NameError",
     "evalue": "name 'coor' is not defined",
     "output_type": "error",
     "traceback": [
      "\u001b[0;31m---------------------------------------------------------------------------\u001b[0m",
      "\u001b[0;31mNameError\u001b[0m                                 Traceback (most recent call last)",
      "\u001b[1;32m/home/adalaber/Escritorio/MODULO 1/PYTHON/TUPLAS Y SETS/ejercicio_pair_programming_tuplas.ipynb Cell 1'\u001b[0m in \u001b[0;36m<cell line: 18>\u001b[0;34m()\u001b[0m\n\u001b[1;32m     <a href='vscode-notebook-cell:/home/adalaber/Escritorio/MODULO%201/PYTHON/TUPLAS%20Y%20SETS/ejercicio_pair_programming_tuplas.ipynb#ch0000000?line=15'>16</a>\u001b[0m input_usuaria1 \u001b[39m=\u001b[39m \u001b[39minput\u001b[39m(\u001b[39m'\u001b[39m\u001b[39mElige X o O y dos coordenadas de 1 al 3 separadas por una coma\u001b[39m\u001b[39m'\u001b[39m)\n\u001b[1;32m     <a href='vscode-notebook-cell:/home/adalaber/Escritorio/MODULO%201/PYTHON/TUPLAS%20Y%20SETS/ejercicio_pair_programming_tuplas.ipynb#ch0000000?line=16'>17</a>\u001b[0m \u001b[39mprint\u001b[39m(input_usuaria1)\n\u001b[0;32m---> <a href='vscode-notebook-cell:/home/adalaber/Escritorio/MODULO%201/PYTHON/TUPLAS%20Y%20SETS/ejercicio_pair_programming_tuplas.ipynb#ch0000000?line=17'>18</a>\u001b[0m coor \u001b[39m=\u001b[39m \u001b[39mtuple\u001b[39m(\u001b[39mint\u001b[39m(num)\u001b[39m-\u001b[39m\u001b[39m1\u001b[39m \u001b[39mfor\u001b[39;00m num \u001b[39min\u001b[39;00m coor\u001b[39m.\u001b[39msplit(\u001b[39m\"\u001b[39m\u001b[39m,\u001b[39m\u001b[39m\"\u001b[39m))\n\u001b[1;32m     <a href='vscode-notebook-cell:/home/adalaber/Escritorio/MODULO%201/PYTHON/TUPLAS%20Y%20SETS/ejercicio_pair_programming_tuplas.ipynb#ch0000000?line=19'>20</a>\u001b[0m \u001b[39m# Actualizar tablero\u001b[39;00m\n\u001b[1;32m     <a href='vscode-notebook-cell:/home/adalaber/Escritorio/MODULO%201/PYTHON/TUPLAS%20Y%20SETS/ejercicio_pair_programming_tuplas.ipynb#ch0000000?line=20'>21</a>\u001b[0m \u001b[39m# Imprimir tablero\u001b[39;00m\n\u001b[1;32m     <a href='vscode-notebook-cell:/home/adalaber/Escritorio/MODULO%201/PYTHON/TUPLAS%20Y%20SETS/ejercicio_pair_programming_tuplas.ipynb#ch0000000?line=21'>22</a>\u001b[0m \n\u001b[1;32m     <a href='vscode-notebook-cell:/home/adalaber/Escritorio/MODULO%201/PYTHON/TUPLAS%20Y%20SETS/ejercicio_pair_programming_tuplas.ipynb#ch0000000?line=22'>23</a>\u001b[0m \u001b[39m# Input del usuario\u001b[39;00m\n\u001b[1;32m     <a href='vscode-notebook-cell:/home/adalaber/Escritorio/MODULO%201/PYTHON/TUPLAS%20Y%20SETS/ejercicio_pair_programming_tuplas.ipynb#ch0000000?line=24'>25</a>\u001b[0m coor \u001b[39m=\u001b[39m \u001b[39mtuple\u001b[39m(\u001b[39mint\u001b[39m(co)\u001b[39m-\u001b[39m\u001b[39m1\u001b[39m \u001b[39mfor\u001b[39;00m co \u001b[39min\u001b[39;00m coor\u001b[39m.\u001b[39msplit(\u001b[39m\"\u001b[39m\u001b[39m,\u001b[39m\u001b[39m\"\u001b[39m))\n",
      "\u001b[0;31mNameError\u001b[0m: name 'coor' is not defined"
     ]
    }
   ],
   "source": [
    "# Variables predefinidas\n",
    "inicio = ('¡Comenzamos el juego!')\n",
    "\n",
    "# Definir el tablero con todo \"-\"\n",
    "board = [[\"-\", \"-\", \"-\"], [\"-\", \"-\", \"-\"], [\"-\", \"-\", \"-\"]] \n",
    "\n",
    "# Inicio del juego\n",
    "print(inicio)\n",
    "\n",
    "# Imprimir tablero\n",
    "print(board[0][0] + \"|\" + board[1][0] + \"|\" + board[2][0])\n",
    "print(board[0][1] + \"|\" + board[1][1] + \"|\" + board[2][1])\n",
    "print(board[0][2] + \"|\" + board[1][2] + \"|\" + board[2][2])\n",
    "\n",
    "# Input de la usuaria\n",
    "input_usuaria1 = input('Elige X o O y dos coordenadas de 1 al 3 separadas por una coma').split(\",\"))\n",
    "print(input_usuaria1)\n",
    "coor = tuple(int(num)-1 for num in coor.split(\",\"))\n",
    "coor = input_usuaria1.split()\n",
    "# Actualizar tablero\n",
    "# Imprimir tablero\n",
    "\n",
    "# Input del usuario\n",
    "\n",
    "coor = tuple(int(co)-1 for co in coor.split(\",\"))\n",
    "\n",
    "# Actualizar tablero\n",
    "\n",
    "# Imprimir tablero\n",
    "\n",
    "# Convertir los caracteres del board a una sola lista\n",
    "board_list = sum(board,[])\n",
    "\n",
    "# Sacar los elementos únicos que no sean \"-\"\n",
    "\n",
    "# Final del juego"
   ]
  },
  {
   "cell_type": "code",
   "execution_count": 20,
   "metadata": {},
   "outputs": [
    {
     "name": "stdout",
     "output_type": "stream",
     "text": [
      "x\n",
      "1,3\n",
      "(0, 2)\n"
     ]
    },
    {
     "ename": "ValueError",
     "evalue": "not enough values to unpack (expected 2, got 1)",
     "output_type": "error",
     "traceback": [
      "\u001b[0;31m---------------------------------------------------------------------------\u001b[0m",
      "\u001b[0;31mValueError\u001b[0m                                Traceback (most recent call last)",
      "\u001b[1;32m/home/adalaber/Escritorio/MODULO 1/PYTHON/TUPLAS Y SETS/ejercicio_pair_programming_tuplas.ipynb Cell 2'\u001b[0m in \u001b[0;36m<cell line: 8>\u001b[0;34m()\u001b[0m\n\u001b[1;32m      <a href='vscode-notebook-cell:/home/adalaber/Escritorio/MODULO%201/PYTHON/TUPLAS%20Y%20SETS/ejercicio_pair_programming_tuplas.ipynb#ch0000001?line=4'>5</a>\u001b[0m coor \u001b[39m=\u001b[39m \u001b[39mtuple\u001b[39m(\u001b[39mint\u001b[39m(num)\u001b[39m-\u001b[39m\u001b[39m1\u001b[39m \u001b[39mfor\u001b[39;00m num \u001b[39min\u001b[39;00m coordenadas_usuaria\u001b[39m.\u001b[39msplit(\u001b[39m\"\u001b[39m\u001b[39m,\u001b[39m\u001b[39m\"\u001b[39m))\n\u001b[1;32m      <a href='vscode-notebook-cell:/home/adalaber/Escritorio/MODULO%201/PYTHON/TUPLAS%20Y%20SETS/ejercicio_pair_programming_tuplas.ipynb#ch0000001?line=6'>7</a>\u001b[0m \u001b[39mprint\u001b[39m(coor)\n\u001b[0;32m----> <a href='vscode-notebook-cell:/home/adalaber/Escritorio/MODULO%201/PYTHON/TUPLAS%20Y%20SETS/ejercicio_pair_programming_tuplas.ipynb#ch0000001?line=7'>8</a>\u001b[0m (coordenadas_usuaria[\u001b[39m0\u001b[39m],coordenadas_usuaria[\u001b[39m2\u001b[39m]) \u001b[39m=\u001b[39m simbolo_usuaria\n\u001b[1;32m      <a href='vscode-notebook-cell:/home/adalaber/Escritorio/MODULO%201/PYTHON/TUPLAS%20Y%20SETS/ejercicio_pair_programming_tuplas.ipynb#ch0000001?line=8'>9</a>\u001b[0m \u001b[39mprint\u001b[39m(simbolo_usuaria)\n",
      "\u001b[0;31mValueError\u001b[0m: not enough values to unpack (expected 2, got 1)"
     ]
    }
   ],
   "source": [
    "input_usuaria1= input('Elige X o O y dos coordenadas de 1 al 3 separadas por una coma')\n",
    "simbolo_usuaria, coordenadas_usuaria= input_usuaria1.split(' ')\n",
    "print(simbolo_usuaria)\n",
    "print(coordenadas_usuaria)\n",
    "coor = tuple(int(num)-1 for num in coordenadas_usuaria.split(\",\"))\n",
    "\n",
    "print(coor)\n",
    "(coordenadas_usuaria[0],coordenadas_usuaria[2]) = simbolo_usuaria\n",
    "print(simbolo_usuaria)\n"
   ]
  }
 ],
 "metadata": {
  "interpreter": {
   "hash": "916dbcbb3f70747c44a77c7bcd40155683ae19c65e1c03b4aa3499c5328201f1"
  },
  "kernelspec": {
   "display_name": "Python 3.8.10 64-bit",
   "language": "python",
   "name": "python3"
  },
  "language_info": {
   "codemirror_mode": {
    "name": "ipython",
    "version": 3
   },
   "file_extension": ".py",
   "mimetype": "text/x-python",
   "name": "python",
   "nbconvert_exporter": "python",
   "pygments_lexer": "ipython3",
   "version": "3.8.10"
  },
  "orig_nbformat": 4
 },
 "nbformat": 4,
 "nbformat_minor": 2
}
