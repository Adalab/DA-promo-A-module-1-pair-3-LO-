{
 "cells": [
  {
   "cell_type": "code",
   "execution_count": null,
   "metadata": {},
   "outputs": [],
   "source": [
    "import random\n",
    "\n",
    "# Ajustes\n",
    "palabras = 'adalab lovelace mujer python analytics data bootcamp hacker'.split()\n",
    "\n",
    "# Variables calculadas\n",
    "palabra_secreta = palabras[random.randint(0, len(palabras)-1)].upper()\n",
    "palabra_guiones= list(len(palabra_secreta)*'_')\n",
    "\n",
    "# Strings\n",
    "\n",
    "# Inicio del juego\n",
    "Bienvenida = (\" --!Comenzamos el juego!--  \")\n",
    "Instrucciones = (\" Tienes 8 intentos para adivinar la palabra\")\n",
    "print(Bienvenida)\n",
    "print(Instrucciones)\n",
    "# Adivinanzas\n",
    "\n",
    "letras_falladas = []\n",
    "\n",
    "#Input de la usuaria\n",
    "\n",
    "n_intentos = 0\n",
    "\n",
    "while n_intentos < 8:\n",
    "\n",
    "    indice_palabra = 0\n",
    "\n",
    "    letra_introducida = (str(input(\"Dime una letra\"))).upper()\n",
    "        \n",
    "    for letras in palabra_secreta:\n",
    "        if letras == letra_introducida:  \n",
    "            palabra_guiones[indice_palabra] = letra_introducida\n",
    "        else:\n",
    "            if not letra_introducida in letras_falladas:\n",
    "                letras_falladas.append(letra_introducida)\n",
    "\n",
    "        indice_palabra += 1\n",
    "\n",
    "    n_intentos += 1\n",
    "    \n",
    "    print(\"Intento \", n_intentos, \":\", letra_introducida)\n",
    "    print(''.join(palabra_guiones),\" - \",''.join(letras_falladas))\n",
    "\n",
    "    if palabra_secreta == \"\".join(palabra_guiones):\n",
    "        print (\"--!Terminamos el juego¡--\\n\")\n",
    "        print (\"Enhorabuena, has adivinado la palabra.\")\n",
    "        break\n",
    "\n",
    "if palabra_secreta != \"\".join(palabra_guiones):\n",
    "        print (\"--!Terminamos el juego¡--\\n Lo siento, más suerte la próxima vez.!\")"
   ]
  },
  {
   "cell_type": "code",
   "execution_count": null,
   "metadata": {},
   "outputs": [],
   "source": []
  }
 ],
 "metadata": {
  "interpreter": {
   "hash": "40d3a090f54c6569ab1632332b64b2c03c39dcf918b08424e98f38b5ae0af88f"
  },
  "kernelspec": {
   "display_name": "Python 3.9.7 ('base')",
   "language": "python",
   "name": "python3"
  },
  "language_info": {
   "codemirror_mode": {
    "name": "ipython",
    "version": 3
   },
   "file_extension": ".py",
   "mimetype": "text/x-python",
   "name": "python",
   "nbconvert_exporter": "python",
   "pygments_lexer": "ipython3",
   "version": "3.9.7"
  },
  "orig_nbformat": 4
 },
 "nbformat": 4,
 "nbformat_minor": 2
}
