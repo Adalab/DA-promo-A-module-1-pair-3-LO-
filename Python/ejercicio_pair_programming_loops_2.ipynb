{
 "cells": [
  {
   "cell_type": "code",
   "execution_count": 8,
   "metadata": {},
   "outputs": [
    {
     "name": "stdout",
     "output_type": "stream",
     "text": [
      "¡Comenzamos el juego!\n",
      "Tienes 8 intentos para adivinar la palabra secreta\n",
      "['_', '_', '_', '_']\n"
     ]
    }
   ],
   "source": [
    "import random\n",
    "#Tiras de texto\n",
    "inicio = ('¡Comenzamos el juego!')\n",
    "instrucciones = ('Tienes 8 intentos para adivinar la palabra secreta')\n",
    "\n",
    "# Ajustes\n",
    "\n",
    "# Strings\n",
    "\n",
    "\n",
    "# Variables calculadas\n",
    "palabras = ['pokemon', 'casa']\n",
    "palabra_secreta = palabras[random.randint(0, len(palabras)-1)].upper()\n",
    "tablero = ['_'] * len(palabra_secreta)\n",
    "\n",
    "# Inicio del juego\n",
    "print(inicio)\n",
    "print(instrucciones)\n",
    "print(tablero)\n",
    "# Adivinanzas\n",
    "\n",
    "    # Input de la usuaria\n",
    "    \n",
    "    # Actualizar la palabra y los fallos\n",
    "    \n",
    "    # Comunicar el estado del juego a la usuaria\n",
    "\n",
    "    # Parar el juego si la palabra ha sido adivinada\n",
    "\n",
    "# Final del juego"
   ]
  },
  {
   "cell_type": "code",
   "execution_count": 17,
   "metadata": {},
   "outputs": [
    {
     "name": "stdout",
     "output_type": "stream",
     "text": [
      "¡Comenzamos el juego!\n",
      "Tienes 8 intentos para adivinar la palabra secreta\n",
      "['_', '_', '_', '_', '_', '_', '_']\n"
     ]
    }
   ],
   "source": [
    "inicio = ('¡Comenzamos el juego!')\n",
    "instrucciones = ('Tienes 8 intentos para adivinar la palabra secreta')\n",
    "#----------------------------------------------------------------------------------------------\n",
    "palabras = ['pokemon', 'casa']\n",
    "palabra_secreta = palabras[random.randint(0, len(palabras)-1)].upper()\n",
    "tablero = ['_'] * len(palabra_secreta)\n",
    "num_intentos = 0\n",
    "#----------------------------------------------------------------------------------------------\n",
    "print(inicio)\n",
    "print(instrucciones)\n",
    "print(tablero)\n",
    "#----------------------------------------------------------------------------------------------\n",
    "y = []\n",
    "while num_intentos<2:\n",
    "    letra = str(input('Dime una letra'))\n",
    "    num_intentos = num_intentos + 1\n",
    "\n",
    "    for letra in palabra_secreta:\n",
    "        if letra in palabra_secreta:\n",
    "            continue\n",
    "        print('Intento:',letra)\n",
    "  \n",
    "\n",
    " \n",
    " \n",
    "\n",
    "\n",
    "\n",
    "    "
   ]
  }
 ],
 "metadata": {
  "interpreter": {
   "hash": "916dbcbb3f70747c44a77c7bcd40155683ae19c65e1c03b4aa3499c5328201f1"
  },
  "kernelspec": {
   "display_name": "Python 3.8.10 64-bit",
   "language": "python",
   "name": "python3"
  },
  "language_info": {
   "codemirror_mode": {
    "name": "ipython",
    "version": 3
   },
   "file_extension": ".py",
   "mimetype": "text/x-python",
   "name": "python",
   "nbconvert_exporter": "python",
   "pygments_lexer": "ipython3",
   "version": "3.8.10"
  },
  "orig_nbformat": 4
 },
 "nbformat": 4,
 "nbformat_minor": 2
}
