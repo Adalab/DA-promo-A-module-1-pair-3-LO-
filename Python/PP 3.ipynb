{
 "cells": [
  {
   "cell_type": "code",
   "execution_count": 3,
   "metadata": {},
   "outputs": [
    {
     "name": "stdout",
     "output_type": "stream",
     "text": [
      "--¡Comencemos el juego!--\n",
      "\n",
      "La lista aleatoria tiene 15 números entre 0 y 20.\n",
      "El usuario seleccionó: 6\n",
      "-> Estaba en la lista aletoria?\n",
      "True\n",
      "Estaba en el sitio 13, índice 12.\n",
      "\n",
      "-- Terminamos el juego. La lista era [18, 13, 2, 3, 12, 9, 10, 8, 0, 17, 5, 16, 6, 11, 4]  --\n"
     ]
    }
   ],
   "source": [
    "import random\n",
    "\n",
    "# Variables numéricas\n",
    "index = -1\n",
    "lim_inferior = 0\n",
    "lim_superior = 20\n",
    "longitud_lista = 15\n",
    "\n",
    "# Cadenas fijas de texto\n",
    "Bienvenida = ('--¡Comencemos el juego!--\\n')\n",
    "Instrucciones = (\"La lista aleatoria tiene 15 números entre 0 y 20.\")\n",
    "pregunta = ('-> Estaba en la lista aletoria?')\n",
    "ubicacon = (\"Estaba en el sitio\")\n",
    "Fin = (\"\\n-- Terminamos el juego. La lista era\")\n",
    "\n",
    "# User input\n",
    "intento = int(input(\"Introduce un número del 0 al 20\"))\n",
    "\n",
    "# Cantidades calculadas\n",
    "num_list = random.sample(range(lim_inferior, lim_superior), longitud_lista)\n",
    "\n",
    "# Inicio del juego\n",
    "print(Bienvenida)\n",
    "\n",
    "# Propiedades de la lista aleatoria\n",
    "print(Instrucciones)\n",
    "print (\"El usuario seleccionó:\",intento)\n",
    "\n",
    "# Han adivinado un elemento?\n",
    "print(pregunta)\n",
    "print(intento in num_list)\n",
    "\n",
    "# Si adivinaron uno, dónde estaba?\n",
    "\n",
    "if num_list.count(intento): \n",
    "   index = num_list.index(intento)\n",
    "   \n",
    "if index >= 0: \n",
    "    print(\"Estaba en el sitio\", str(index+1) + \", índice\", str(index)+\".\")\n",
    "\n",
    "# Fin del juego\n",
    "print(Fin, num_list, \" --\")\n"
   ]
  },
  {
   "cell_type": "markdown",
   "metadata": {},
   "source": []
  }
 ],
 "metadata": {
  "interpreter": {
   "hash": "40d3a090f54c6569ab1632332b64b2c03c39dcf918b08424e98f38b5ae0af88f"
  },
  "kernelspec": {
   "display_name": "Python 3.9.7 ('base')",
   "language": "python",
   "name": "python3"
  },
  "language_info": {
   "codemirror_mode": {
    "name": "ipython",
    "version": 3
   },
   "file_extension": ".py",
   "mimetype": "text/x-python",
   "name": "python",
   "nbconvert_exporter": "python",
   "pygments_lexer": "ipython3",
   "version": "3.9.7"
  },
  "orig_nbformat": 4
 },
 "nbformat": 4,
 "nbformat_minor": 2
}
